{
 "cells": [
  {
   "cell_type": "code",
   "execution_count": 105,
   "id": "8148a979-2a0f-4ea7-a771-298f932b2023",
   "metadata": {},
   "outputs": [],
   "source": [
    "class recomnd:\n",
    "    import pandas as pd\n",
    "    import numpy as np\n",
    "    import ast\n",
    "    from sklearn.feature_extraction.text import CountVectorizer\n",
    "    from sklearn.metrics.pairwise import cosine_similarity\n",
    "    \n",
    "    def __init__(self,x):\n",
    "        self.df=pd.read_csv('ted_data.csv')\n",
    "        self.df=self.df[['title','tags']]\n",
    "        self.mv=x\n",
    "\n",
    "    def srch(self):\n",
    "        import pandas as pd\n",
    "        import numpy as np\n",
    "        import ast\n",
    "        from sklearn.feature_extraction.text import CountVectorizer\n",
    "        from sklearn.metrics.pairwise import cosine_similarity\n",
    "        \n",
    "        d=np.array([['1',self.mv]])\n",
    "        d1=self.df.values\n",
    "        temp_d=np.vstack((d,d1))\n",
    "        self.temp_df=pd.DataFrame(data=temp_d,columns=['title','tags'])\n",
    "\n",
    "        cv=CountVectorizer(max_features=3000,stop_words='english')\n",
    "        temp_vec=cv.fit_transform(self.temp_df['tags']).toarray()\n",
    "        distance_matrics=cosine_similarity(temp_vec)\n",
    "        k=self.make_tpl(distance_matrics[0])\n",
    "        l=sorted(k,reverse=True)\n",
    "        for i in range(1,11):\n",
    "            print(self.temp_df['title'].iloc[l[i][1]])\n",
    "\n",
    "\n",
    "    def make_tpl(self,x):\n",
    "        res=[]\n",
    "        for i in range(len(x)):\n",
    "            tpl=(x[i],i)\n",
    "            res.append(tpl)\n",
    "        return res\n",
    "        \n",
    "        \n",
    "    \n"
   ]
  },
  {
   "cell_type": "code",
   "execution_count": 106,
   "id": "b7ecd03c-3410-4900-a48a-9b7511605ef4",
   "metadata": {},
   "outputs": [],
   "source": [
    "obj=recomnd('rebuilding detroit')"
   ]
  },
  {
   "cell_type": "code",
   "execution_count": 107,
   "id": "dd059b40-6024-4a15-9586-830e409d3283",
   "metadata": {},
   "outputs": [
    {
     "name": "stdout",
     "output_type": "stream",
     "text": [
      "a new vision for rebuilding detroit\n",
      "rebuilding a neighborhood with beauty, dignity, hope\n",
      "my wish: rebuilding rwanda\n",
      "how i stopped the taliban from shutting down my school\n",
      "new rules for rebuilding a broken nation\n",
      "how a video game might help us build better cities\n",
      "a black man goes undercover in the alt-right\n",
      "what intelligent machines can learn from a school of fish\n",
      "the most martian place on earth\n",
      "what we're missing in the debate about immigration\n"
     ]
    }
   ],
   "source": [
    "obj.srch()"
   ]
  },
  {
   "cell_type": "code",
   "execution_count": null,
   "id": "fb33c118-afb5-47a4-8f45-b8a42f19b8dd",
   "metadata": {},
   "outputs": [],
   "source": []
  },
  {
   "cell_type": "code",
   "execution_count": null,
   "id": "b055dc27-a3d1-46cc-94c8-81e8441851fe",
   "metadata": {},
   "outputs": [],
   "source": []
  },
  {
   "cell_type": "code",
   "execution_count": null,
   "id": "00eede21-4485-4db8-8456-b40995249ec2",
   "metadata": {},
   "outputs": [],
   "source": []
  },
  {
   "cell_type": "code",
   "execution_count": null,
   "id": "26e15ff9-dcc3-46a5-95ca-ec90ead65fd5",
   "metadata": {},
   "outputs": [],
   "source": []
  }
 ],
 "metadata": {
  "kernelspec": {
   "display_name": "Python 3 (ipykernel)",
   "language": "python",
   "name": "python3"
  },
  "language_info": {
   "codemirror_mode": {
    "name": "ipython",
    "version": 3
   },
   "file_extension": ".py",
   "mimetype": "text/x-python",
   "name": "python",
   "nbconvert_exporter": "python",
   "pygments_lexer": "ipython3",
   "version": "3.11.7"
  }
 },
 "nbformat": 4,
 "nbformat_minor": 5
}
